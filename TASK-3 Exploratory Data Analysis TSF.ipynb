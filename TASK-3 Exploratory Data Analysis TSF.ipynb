{
 "cells": [
  {
   "cell_type": "markdown",
   "metadata": {},
   "source": [
    "## Task 3 : Exploratory Data Analysis - Retail\n",
    "# GRIP @ The Sparks Foundation\n",
    "# Author : DEVANSH SHRIVASTAVA"
   ]
  },
  {
   "cell_type": "markdown",
   "metadata": {},
   "source": [
    "# Problem Statement\n",
    "#### Perform ‘Exploratory Data Analysis’ on dataset ‘Sample_Superstore’. \n",
    "#### As a business manager, try to find out the weak areas where you can work to make more profit. "
   ]
  },
  {
   "cell_type": "code",
   "execution_count": 177,
   "metadata": {},
   "outputs": [],
   "source": [
    "import numpy as np\n",
    "import pandas as pd\n",
    "import matplotlib.pyplot as plt\n",
    "import seaborn as sns\n",
    "# to suppress warnings\n",
    "import warnings\n",
    "warnings.filterwarnings('ignore')"
   ]
  },
  {
   "cell_type": "markdown",
   "metadata": {},
   "source": [
    "# Step 1 - Reading and Understanding Data"
   ]
  },
  {
   "cell_type": "code",
   "execution_count": 178,
   "metadata": {},
   "outputs": [
    {
     "data": {
      "text/html": [
       "<div>\n",
       "<style scoped>\n",
       "    .dataframe tbody tr th:only-of-type {\n",
       "        vertical-align: middle;\n",
       "    }\n",
       "\n",
       "    .dataframe tbody tr th {\n",
       "        vertical-align: top;\n",
       "    }\n",
       "\n",
       "    .dataframe thead th {\n",
       "        text-align: right;\n",
       "    }\n",
       "</style>\n",
       "<table border=\"1\" class=\"dataframe\">\n",
       "  <thead>\n",
       "    <tr style=\"text-align: right;\">\n",
       "      <th></th>\n",
       "      <th>Ship Mode</th>\n",
       "      <th>Segment</th>\n",
       "      <th>Country</th>\n",
       "      <th>City</th>\n",
       "      <th>State</th>\n",
       "      <th>Postal Code</th>\n",
       "      <th>Region</th>\n",
       "      <th>Category</th>\n",
       "      <th>Sub-Category</th>\n",
       "      <th>Sales</th>\n",
       "      <th>Quantity</th>\n",
       "      <th>Discount</th>\n",
       "      <th>Profit</th>\n",
       "    </tr>\n",
       "  </thead>\n",
       "  <tbody>\n",
       "    <tr>\n",
       "      <th>0</th>\n",
       "      <td>Second Class</td>\n",
       "      <td>Consumer</td>\n",
       "      <td>United States</td>\n",
       "      <td>Henderson</td>\n",
       "      <td>Kentucky</td>\n",
       "      <td>42420</td>\n",
       "      <td>South</td>\n",
       "      <td>Furniture</td>\n",
       "      <td>Bookcases</td>\n",
       "      <td>261.9600</td>\n",
       "      <td>2</td>\n",
       "      <td>0.00</td>\n",
       "      <td>41.9136</td>\n",
       "    </tr>\n",
       "    <tr>\n",
       "      <th>1</th>\n",
       "      <td>Second Class</td>\n",
       "      <td>Consumer</td>\n",
       "      <td>United States</td>\n",
       "      <td>Henderson</td>\n",
       "      <td>Kentucky</td>\n",
       "      <td>42420</td>\n",
       "      <td>South</td>\n",
       "      <td>Furniture</td>\n",
       "      <td>Chairs</td>\n",
       "      <td>731.9400</td>\n",
       "      <td>3</td>\n",
       "      <td>0.00</td>\n",
       "      <td>219.5820</td>\n",
       "    </tr>\n",
       "    <tr>\n",
       "      <th>2</th>\n",
       "      <td>Second Class</td>\n",
       "      <td>Corporate</td>\n",
       "      <td>United States</td>\n",
       "      <td>Los Angeles</td>\n",
       "      <td>California</td>\n",
       "      <td>90036</td>\n",
       "      <td>West</td>\n",
       "      <td>Office Supplies</td>\n",
       "      <td>Labels</td>\n",
       "      <td>14.6200</td>\n",
       "      <td>2</td>\n",
       "      <td>0.00</td>\n",
       "      <td>6.8714</td>\n",
       "    </tr>\n",
       "    <tr>\n",
       "      <th>3</th>\n",
       "      <td>Standard Class</td>\n",
       "      <td>Consumer</td>\n",
       "      <td>United States</td>\n",
       "      <td>Fort Lauderdale</td>\n",
       "      <td>Florida</td>\n",
       "      <td>33311</td>\n",
       "      <td>South</td>\n",
       "      <td>Furniture</td>\n",
       "      <td>Tables</td>\n",
       "      <td>957.5775</td>\n",
       "      <td>5</td>\n",
       "      <td>0.45</td>\n",
       "      <td>-383.0310</td>\n",
       "    </tr>\n",
       "    <tr>\n",
       "      <th>4</th>\n",
       "      <td>Standard Class</td>\n",
       "      <td>Consumer</td>\n",
       "      <td>United States</td>\n",
       "      <td>Fort Lauderdale</td>\n",
       "      <td>Florida</td>\n",
       "      <td>33311</td>\n",
       "      <td>South</td>\n",
       "      <td>Office Supplies</td>\n",
       "      <td>Storage</td>\n",
       "      <td>22.3680</td>\n",
       "      <td>2</td>\n",
       "      <td>0.20</td>\n",
       "      <td>2.5164</td>\n",
       "    </tr>\n",
       "  </tbody>\n",
       "</table>\n",
       "</div>"
      ],
      "text/plain": [
       "        Ship Mode    Segment        Country             City       State  \\\n",
       "0    Second Class   Consumer  United States        Henderson    Kentucky   \n",
       "1    Second Class   Consumer  United States        Henderson    Kentucky   \n",
       "2    Second Class  Corporate  United States      Los Angeles  California   \n",
       "3  Standard Class   Consumer  United States  Fort Lauderdale     Florida   \n",
       "4  Standard Class   Consumer  United States  Fort Lauderdale     Florida   \n",
       "\n",
       "   Postal Code Region         Category Sub-Category     Sales  Quantity  \\\n",
       "0        42420  South        Furniture    Bookcases  261.9600         2   \n",
       "1        42420  South        Furniture       Chairs  731.9400         3   \n",
       "2        90036   West  Office Supplies       Labels   14.6200         2   \n",
       "3        33311  South        Furniture       Tables  957.5775         5   \n",
       "4        33311  South  Office Supplies      Storage   22.3680         2   \n",
       "\n",
       "   Discount    Profit  \n",
       "0      0.00   41.9136  \n",
       "1      0.00  219.5820  \n",
       "2      0.00    6.8714  \n",
       "3      0.45 -383.0310  \n",
       "4      0.20    2.5164  "
      ]
     },
     "execution_count": 178,
     "metadata": {},
     "output_type": "execute_result"
    }
   ],
   "source": [
    "df=pd.read_csv('SampleSuperstore.csv')\n",
    "df.head()"
   ]
  },
  {
   "cell_type": "code",
   "execution_count": 179,
   "metadata": {},
   "outputs": [
    {
     "data": {
      "text/plain": [
       "(9994, 13)"
      ]
     },
     "execution_count": 179,
     "metadata": {},
     "output_type": "execute_result"
    }
   ],
   "source": [
    "df.shape # There are 9994 observations and 13 columns in the dataset"
   ]
  },
  {
   "cell_type": "code",
   "execution_count": 180,
   "metadata": {},
   "outputs": [
    {
     "name": "stdout",
     "output_type": "stream",
     "text": [
      "<class 'pandas.core.frame.DataFrame'>\n",
      "RangeIndex: 9994 entries, 0 to 9993\n",
      "Data columns (total 13 columns):\n",
      " #   Column        Non-Null Count  Dtype  \n",
      "---  ------        --------------  -----  \n",
      " 0   Ship Mode     9994 non-null   object \n",
      " 1   Segment       9994 non-null   object \n",
      " 2   Country       9994 non-null   object \n",
      " 3   City          9994 non-null   object \n",
      " 4   State         9994 non-null   object \n",
      " 5   Postal Code   9994 non-null   int64  \n",
      " 6   Region        9994 non-null   object \n",
      " 7   Category      9994 non-null   object \n",
      " 8   Sub-Category  9994 non-null   object \n",
      " 9   Sales         9994 non-null   float64\n",
      " 10  Quantity      9994 non-null   int64  \n",
      " 11  Discount      9994 non-null   float64\n",
      " 12  Profit        9994 non-null   float64\n",
      "dtypes: float64(3), int64(2), object(8)\n",
      "memory usage: 1015.1+ KB\n"
     ]
    }
   ],
   "source": [
    "df.info() # No null values present in the dataset"
   ]
  },
  {
   "cell_type": "markdown",
   "metadata": {},
   "source": [
    "# Checking for null values"
   ]
  },
  {
   "cell_type": "code",
   "execution_count": 181,
   "metadata": {},
   "outputs": [
    {
     "data": {
      "text/plain": [
       "Ship Mode       0\n",
       "Segment         0\n",
       "Country         0\n",
       "City            0\n",
       "State           0\n",
       "Postal Code     0\n",
       "Region          0\n",
       "Category        0\n",
       "Sub-Category    0\n",
       "Sales           0\n",
       "Quantity        0\n",
       "Discount        0\n",
       "Profit          0\n",
       "dtype: int64"
      ]
     },
     "execution_count": 181,
     "metadata": {},
     "output_type": "execute_result"
    }
   ],
   "source": [
    "df.isnull().sum()"
   ]
  },
  {
   "cell_type": "markdown",
   "metadata": {},
   "source": [
    "# Five point summary of numerical features"
   ]
  },
  {
   "cell_type": "code",
   "execution_count": 182,
   "metadata": {},
   "outputs": [
    {
     "data": {
      "text/html": [
       "<div>\n",
       "<style scoped>\n",
       "    .dataframe tbody tr th:only-of-type {\n",
       "        vertical-align: middle;\n",
       "    }\n",
       "\n",
       "    .dataframe tbody tr th {\n",
       "        vertical-align: top;\n",
       "    }\n",
       "\n",
       "    .dataframe thead th {\n",
       "        text-align: right;\n",
       "    }\n",
       "</style>\n",
       "<table border=\"1\" class=\"dataframe\">\n",
       "  <thead>\n",
       "    <tr style=\"text-align: right;\">\n",
       "      <th></th>\n",
       "      <th>Postal Code</th>\n",
       "      <th>Sales</th>\n",
       "      <th>Quantity</th>\n",
       "      <th>Discount</th>\n",
       "      <th>Profit</th>\n",
       "    </tr>\n",
       "  </thead>\n",
       "  <tbody>\n",
       "    <tr>\n",
       "      <th>count</th>\n",
       "      <td>9994.000000</td>\n",
       "      <td>9994.000000</td>\n",
       "      <td>9994.000000</td>\n",
       "      <td>9994.000000</td>\n",
       "      <td>9994.000000</td>\n",
       "    </tr>\n",
       "    <tr>\n",
       "      <th>mean</th>\n",
       "      <td>55190.379428</td>\n",
       "      <td>229.858001</td>\n",
       "      <td>3.789574</td>\n",
       "      <td>0.156203</td>\n",
       "      <td>28.656896</td>\n",
       "    </tr>\n",
       "    <tr>\n",
       "      <th>std</th>\n",
       "      <td>32063.693350</td>\n",
       "      <td>623.245101</td>\n",
       "      <td>2.225110</td>\n",
       "      <td>0.206452</td>\n",
       "      <td>234.260108</td>\n",
       "    </tr>\n",
       "    <tr>\n",
       "      <th>min</th>\n",
       "      <td>1040.000000</td>\n",
       "      <td>0.444000</td>\n",
       "      <td>1.000000</td>\n",
       "      <td>0.000000</td>\n",
       "      <td>-6599.978000</td>\n",
       "    </tr>\n",
       "    <tr>\n",
       "      <th>25%</th>\n",
       "      <td>23223.000000</td>\n",
       "      <td>17.280000</td>\n",
       "      <td>2.000000</td>\n",
       "      <td>0.000000</td>\n",
       "      <td>1.728750</td>\n",
       "    </tr>\n",
       "    <tr>\n",
       "      <th>50%</th>\n",
       "      <td>56430.500000</td>\n",
       "      <td>54.490000</td>\n",
       "      <td>3.000000</td>\n",
       "      <td>0.200000</td>\n",
       "      <td>8.666500</td>\n",
       "    </tr>\n",
       "    <tr>\n",
       "      <th>75%</th>\n",
       "      <td>90008.000000</td>\n",
       "      <td>209.940000</td>\n",
       "      <td>5.000000</td>\n",
       "      <td>0.200000</td>\n",
       "      <td>29.364000</td>\n",
       "    </tr>\n",
       "    <tr>\n",
       "      <th>max</th>\n",
       "      <td>99301.000000</td>\n",
       "      <td>22638.480000</td>\n",
       "      <td>14.000000</td>\n",
       "      <td>0.800000</td>\n",
       "      <td>8399.976000</td>\n",
       "    </tr>\n",
       "  </tbody>\n",
       "</table>\n",
       "</div>"
      ],
      "text/plain": [
       "        Postal Code         Sales     Quantity     Discount       Profit\n",
       "count   9994.000000   9994.000000  9994.000000  9994.000000  9994.000000\n",
       "mean   55190.379428    229.858001     3.789574     0.156203    28.656896\n",
       "std    32063.693350    623.245101     2.225110     0.206452   234.260108\n",
       "min     1040.000000      0.444000     1.000000     0.000000 -6599.978000\n",
       "25%    23223.000000     17.280000     2.000000     0.000000     1.728750\n",
       "50%    56430.500000     54.490000     3.000000     0.200000     8.666500\n",
       "75%    90008.000000    209.940000     5.000000     0.200000    29.364000\n",
       "max    99301.000000  22638.480000    14.000000     0.800000  8399.976000"
      ]
     },
     "execution_count": 182,
     "metadata": {},
     "output_type": "execute_result"
    }
   ],
   "source": [
    "df.describe()"
   ]
  },
  {
   "cell_type": "code",
   "execution_count": 183,
   "metadata": {},
   "outputs": [
    {
     "data": {
      "text/html": [
       "<div>\n",
       "<style scoped>\n",
       "    .dataframe tbody tr th:only-of-type {\n",
       "        vertical-align: middle;\n",
       "    }\n",
       "\n",
       "    .dataframe tbody tr th {\n",
       "        vertical-align: top;\n",
       "    }\n",
       "\n",
       "    .dataframe thead th {\n",
       "        text-align: right;\n",
       "    }\n",
       "</style>\n",
       "<table border=\"1\" class=\"dataframe\">\n",
       "  <thead>\n",
       "    <tr style=\"text-align: right;\">\n",
       "      <th></th>\n",
       "      <th>Postal Code</th>\n",
       "      <th>Sales</th>\n",
       "      <th>Quantity</th>\n",
       "      <th>Discount</th>\n",
       "      <th>Profit</th>\n",
       "    </tr>\n",
       "  </thead>\n",
       "  <tbody>\n",
       "    <tr>\n",
       "      <th>Postal Code</th>\n",
       "      <td>1.028080e+09</td>\n",
       "      <td>-476682.766590</td>\n",
       "      <td>910.415885</td>\n",
       "      <td>386.870404</td>\n",
       "      <td>-225045.849445</td>\n",
       "    </tr>\n",
       "    <tr>\n",
       "      <th>Sales</th>\n",
       "      <td>-4.766828e+05</td>\n",
       "      <td>388434.455308</td>\n",
       "      <td>278.459923</td>\n",
       "      <td>-3.627228</td>\n",
       "      <td>69944.096586</td>\n",
       "    </tr>\n",
       "    <tr>\n",
       "      <th>Quantity</th>\n",
       "      <td>9.104159e+02</td>\n",
       "      <td>278.459923</td>\n",
       "      <td>4.951113</td>\n",
       "      <td>0.003961</td>\n",
       "      <td>34.534769</td>\n",
       "    </tr>\n",
       "    <tr>\n",
       "      <th>Discount</th>\n",
       "      <td>3.868704e+02</td>\n",
       "      <td>-3.627228</td>\n",
       "      <td>0.003961</td>\n",
       "      <td>0.042622</td>\n",
       "      <td>-10.615173</td>\n",
       "    </tr>\n",
       "    <tr>\n",
       "      <th>Profit</th>\n",
       "      <td>-2.250458e+05</td>\n",
       "      <td>69944.096586</td>\n",
       "      <td>34.534769</td>\n",
       "      <td>-10.615173</td>\n",
       "      <td>54877.798055</td>\n",
       "    </tr>\n",
       "  </tbody>\n",
       "</table>\n",
       "</div>"
      ],
      "text/plain": [
       "              Postal Code          Sales    Quantity    Discount  \\\n",
       "Postal Code  1.028080e+09 -476682.766590  910.415885  386.870404   \n",
       "Sales       -4.766828e+05  388434.455308  278.459923   -3.627228   \n",
       "Quantity     9.104159e+02     278.459923    4.951113    0.003961   \n",
       "Discount     3.868704e+02      -3.627228    0.003961    0.042622   \n",
       "Profit      -2.250458e+05   69944.096586   34.534769  -10.615173   \n",
       "\n",
       "                    Profit  \n",
       "Postal Code -225045.849445  \n",
       "Sales         69944.096586  \n",
       "Quantity         34.534769  \n",
       "Discount        -10.615173  \n",
       "Profit        54877.798055  "
      ]
     },
     "execution_count": 183,
     "metadata": {},
     "output_type": "execute_result"
    }
   ],
   "source": [
    "df.cov()"
   ]
  },
  {
   "cell_type": "code",
   "execution_count": 184,
   "metadata": {},
   "outputs": [],
   "source": [
    "# Converting postal code to object datatype\n",
    "\n",
    "df['Postal Code'] = df['Postal Code'].astype(\"object\")"
   ]
  },
  {
   "cell_type": "code",
   "execution_count": 185,
   "metadata": {},
   "outputs": [
    {
     "name": "stdout",
     "output_type": "stream",
     "text": [
      "<class 'pandas.core.frame.DataFrame'>\n",
      "RangeIndex: 9994 entries, 0 to 9993\n",
      "Data columns (total 13 columns):\n",
      " #   Column        Non-Null Count  Dtype  \n",
      "---  ------        --------------  -----  \n",
      " 0   Ship Mode     9994 non-null   object \n",
      " 1   Segment       9994 non-null   object \n",
      " 2   Country       9994 non-null   object \n",
      " 3   City          9994 non-null   object \n",
      " 4   State         9994 non-null   object \n",
      " 5   Postal Code   9994 non-null   object \n",
      " 6   Region        9994 non-null   object \n",
      " 7   Category      9994 non-null   object \n",
      " 8   Sub-Category  9994 non-null   object \n",
      " 9   Sales         9994 non-null   float64\n",
      " 10  Quantity      9994 non-null   int64  \n",
      " 11  Discount      9994 non-null   float64\n",
      " 12  Profit        9994 non-null   float64\n",
      "dtypes: float64(3), int64(1), object(9)\n",
      "memory usage: 1015.1+ KB\n"
     ]
    }
   ],
   "source": [
    "df.info()"
   ]
  },
  {
   "cell_type": "markdown",
   "metadata": {},
   "source": [
    "# Number of unique values in each column"
   ]
  },
  {
   "cell_type": "code",
   "execution_count": 186,
   "metadata": {},
   "outputs": [
    {
     "name": "stdout",
     "output_type": "stream",
     "text": [
      "\n",
      "Column: Ship Mode\n",
      "\n",
      "Number of categories: 4\n",
      "Standard Class    5968\n",
      "Second Class      1945\n",
      "First Class       1538\n",
      "Same Day           543\n",
      "Name: Ship Mode, dtype: int64\n",
      "\n",
      "Column: Segment\n",
      "\n",
      "Number of categories: 3\n",
      "Consumer       5191\n",
      "Corporate      3020\n",
      "Home Office    1783\n",
      "Name: Segment, dtype: int64\n",
      "\n",
      "Column: Country\n",
      "\n",
      "Number of categories: 1\n",
      "United States    9994\n",
      "Name: Country, dtype: int64\n",
      "\n",
      "Column: City\n",
      "\n",
      "Number of categories: 531\n",
      "New York City    915\n",
      "Los Angeles      747\n",
      "Philadelphia     537\n",
      "San Francisco    510\n",
      "Seattle          428\n",
      "                ... \n",
      "Ormond Beach       1\n",
      "Abilene            1\n",
      "San Mateo          1\n",
      "Pico Rivera        1\n",
      "Hagerstown         1\n",
      "Name: City, Length: 531, dtype: int64\n",
      "\n",
      "Column: State\n",
      "\n",
      "Number of categories: 49\n",
      "California              2001\n",
      "New York                1128\n",
      "Texas                    985\n",
      "Pennsylvania             587\n",
      "Washington               506\n",
      "Illinois                 492\n",
      "Ohio                     469\n",
      "Florida                  383\n",
      "Michigan                 255\n",
      "North Carolina           249\n",
      "Virginia                 224\n",
      "Arizona                  224\n",
      "Georgia                  184\n",
      "Tennessee                183\n",
      "Colorado                 182\n",
      "Indiana                  149\n",
      "Kentucky                 139\n",
      "Massachusetts            135\n",
      "New Jersey               130\n",
      "Oregon                   124\n",
      "Wisconsin                110\n",
      "Maryland                 105\n",
      "Delaware                  96\n",
      "Minnesota                 89\n",
      "Connecticut               82\n",
      "Missouri                  66\n",
      "Oklahoma                  66\n",
      "Alabama                   61\n",
      "Arkansas                  60\n",
      "Rhode Island              56\n",
      "Utah                      53\n",
      "Mississippi               53\n",
      "South Carolina            42\n",
      "Louisiana                 42\n",
      "Nevada                    39\n",
      "Nebraska                  38\n",
      "New Mexico                37\n",
      "Iowa                      30\n",
      "New Hampshire             27\n",
      "Kansas                    24\n",
      "Idaho                     21\n",
      "Montana                   15\n",
      "South Dakota              12\n",
      "Vermont                   11\n",
      "District of Columbia      10\n",
      "Maine                      8\n",
      "North Dakota               7\n",
      "West Virginia              4\n",
      "Wyoming                    1\n",
      "Name: State, dtype: int64\n",
      "\n",
      "Column: Postal Code\n",
      "\n",
      "Number of categories: 631\n",
      "10035    263\n",
      "10024    230\n",
      "10009    229\n",
      "94122    203\n",
      "10011    193\n",
      "        ... \n",
      "33458      1\n",
      "60462      1\n",
      "98002      1\n",
      "68701      1\n",
      "90604      1\n",
      "Name: Postal Code, Length: 631, dtype: int64\n",
      "\n",
      "Column: Region\n",
      "\n",
      "Number of categories: 4\n",
      "West       3203\n",
      "East       2848\n",
      "Central    2323\n",
      "South      1620\n",
      "Name: Region, dtype: int64\n",
      "\n",
      "Column: Category\n",
      "\n",
      "Number of categories: 3\n",
      "Office Supplies    6026\n",
      "Furniture          2121\n",
      "Technology         1847\n",
      "Name: Category, dtype: int64\n",
      "\n",
      "Column: Sub-Category\n",
      "\n",
      "Number of categories: 17\n",
      "Binders        1523\n",
      "Paper          1370\n",
      "Furnishings     957\n",
      "Phones          889\n",
      "Storage         846\n",
      "Art             796\n",
      "Accessories     775\n",
      "Chairs          617\n",
      "Appliances      466\n",
      "Labels          364\n",
      "Tables          319\n",
      "Envelopes       254\n",
      "Bookcases       228\n",
      "Fasteners       217\n",
      "Supplies        190\n",
      "Machines        115\n",
      "Copiers          68\n",
      "Name: Sub-Category, dtype: int64\n",
      "\n",
      "Column: Sales\n",
      "\n",
      "Number of categories: 5825\n",
      "12.960     56\n",
      "19.440     39\n",
      "15.552     39\n",
      "25.920     36\n",
      "10.368     36\n",
      "           ..\n",
      "376.866     1\n",
      "572.800     1\n",
      "3.928       1\n",
      "12.032      1\n",
      "629.640     1\n",
      "Name: Sales, Length: 5825, dtype: int64\n",
      "\n",
      "Column: Quantity\n",
      "\n",
      "Number of categories: 14\n",
      "3     2409\n",
      "2     2402\n",
      "5     1230\n",
      "4     1191\n",
      "1      899\n",
      "7      606\n",
      "6      572\n",
      "9      258\n",
      "8      257\n",
      "10      57\n",
      "11      34\n",
      "14      29\n",
      "13      27\n",
      "12      23\n",
      "Name: Quantity, dtype: int64\n",
      "\n",
      "Column: Discount\n",
      "\n",
      "Number of categories: 12\n",
      "0.00    4798\n",
      "0.20    3657\n",
      "0.70     418\n",
      "0.80     300\n",
      "0.30     227\n",
      "0.40     206\n",
      "0.60     138\n",
      "0.10      94\n",
      "0.50      66\n",
      "0.15      52\n",
      "0.32      27\n",
      "0.45      11\n",
      "Name: Discount, dtype: int64\n",
      "\n",
      "Column: Profit\n",
      "\n",
      "Number of categories: 7287\n",
      " 0.0000      65\n",
      " 6.2208      43\n",
      " 9.3312      38\n",
      " 5.4432      32\n",
      " 3.6288      32\n",
      "             ..\n",
      "-3.5622       1\n",
      "-7.4800       1\n",
      " 626.1850     1\n",
      "-12.8392      1\n",
      " 6.1704       1\n",
      "Name: Profit, Length: 7287, dtype: int64\n"
     ]
    }
   ],
   "source": [
    "for i in df.columns:\n",
    "    print('\\nColumn:',i)\n",
    "    print('\\nNumber of categories:',df[i].value_counts().count())\n",
    "    print(df[i].value_counts())"
   ]
  },
  {
   "cell_type": "code",
   "execution_count": 187,
   "metadata": {},
   "outputs": [
    {
     "name": "stdout",
     "output_type": "stream",
     "text": [
      "Numerical Columns Are : Index(['Sales', 'Quantity', 'Discount', 'Profit'], dtype='object')\n"
     ]
    }
   ],
   "source": [
    "num_col=df.select_dtypes(np.number).columns\n",
    "print('Numerical Columns Are :',num_col)"
   ]
  },
  {
   "cell_type": "code",
   "execution_count": 188,
   "metadata": {},
   "outputs": [
    {
     "name": "stdout",
     "output_type": "stream",
     "text": [
      "Categorical Columns Are : Index(['Ship Mode', 'Segment', 'Country', 'City', 'State', 'Postal Code',\n",
      "       'Region', 'Category', 'Sub-Category'],\n",
      "      dtype='object')\n"
     ]
    }
   ],
   "source": [
    "cat_col=df.select_dtypes('object').columns\n",
    "print('Categorical Columns Are :',cat_col)"
   ]
  },
  {
   "cell_type": "markdown",
   "metadata": {},
   "source": [
    "# Step 2 - Visualizing the input data"
   ]
  },
  {
   "cell_type": "code",
   "execution_count": 189,
   "metadata": {},
   "outputs": [
    {
     "data": {
      "image/png": "[encoded data removed]",
      "text/plain": [
       "<Figure size 720x576 with 2 Axes>"
      ]
     },
     "metadata": {
      "needs_background": "light"
     },
     "output_type": "display_data"
    }
   ],
   "source": [
    "cor=df.corr()\n",
    "plt.figure(figsize=(10,8))\n",
    "sns.heatmap(cor,annot=True,cmap = 'Reds')\n",
    "plt.show()"
   ]
  },
  {
   "cell_type": "markdown",
   "metadata": {},
   "source": [
    "# Inference\n",
    "Discount impacts the Sales and Profit\n",
    "\n",
    "Discount and Profit are negatively correlated (-0.22)\n",
    "\n",
    "Discount and Sales are positively correlated (0.48)"
   ]
  },
  {
   "cell_type": "code",
   "execution_count": 190,
   "metadata": {},
   "outputs": [
    {
     "data": {
      "image/png": "[encoded data removed]",
      "text/plain": [
       "<Figure size 720x432 with 1 Axes>"
      ]
     },
     "metadata": {
      "needs_background": "light"
     },
     "output_type": "display_data"
    }
   ],
   "source": [
    "plt.figure(figsize=(10,6))\n",
    "sns.scatterplot(df['Sales'],df['Profit'],hue=df['Discount'])\n",
    "plt.axhline(0,0,color='r')\n",
    "plt.show()"
   ]
  },
  {
   "cell_type": "markdown",
   "metadata": {},
   "source": [
    "# Inference\n",
    "There is weak positive correlation between Sales and Profit.\n",
    "\n",
    "There is high negative correlation between Discount and Profit"
   ]
  },
  {
   "cell_type": "code",
   "execution_count": 191,
   "metadata": {},
   "outputs": [
    {
     "data": {
      "image/png": "[encoded data removed]",
      "text/plain": [
       "<Figure size 432x288 with 1 Axes>"
      ]
     },
     "metadata": {
      "needs_background": "light"
     },
     "output_type": "display_data"
    }
   ],
   "source": [
    "sns.countplot(x=df['Ship Mode'])\n",
    "plt.show()"
   ]
  },
  {
   "cell_type": "code",
   "execution_count": 192,
   "metadata": {},
   "outputs": [
    {
     "data": {
      "text/plain": [
       "Standard Class    5968\n",
       "Second Class      1945\n",
       "First Class       1538\n",
       "Same Day           543\n",
       "Name: Ship Mode, dtype: int64"
      ]
     },
     "execution_count": 192,
     "metadata": {},
     "output_type": "execute_result"
    }
   ],
   "source": [
    "df['Ship Mode'].value_counts()"
   ]
  },
  {
   "cell_type": "markdown",
   "metadata": {},
   "source": [
    "# Inference\n",
    "Standard Class mode have highest shipment and same day mode have the lowest shipment"
   ]
  },
  {
   "cell_type": "code",
   "execution_count": 193,
   "metadata": {},
   "outputs": [
    {
     "data": {
      "image/png": "[encoded data removed]",
      "text/plain": [
       "<Figure size 864x576 with 1 Axes>"
      ]
     },
     "metadata": {
      "needs_background": "light"
     },
     "output_type": "display_data"
    }
   ],
   "source": [
    "plt.figure(figsize=(12,8))\n",
    "plt.title('Segment wise Sales in each Region')\n",
    "sns.barplot(x='Region',y='Sales',data=df,hue='Segment',order=df['Region'].value_counts().index,palette='rocket')\n",
    "plt.xlabel('Region',fontsize=15)\n",
    "plt.show()"
   ]
  },
  {
   "cell_type": "markdown",
   "metadata": {},
   "source": [
    "# Inference\n",
    "Segment wise sales are almost same in every region"
   ]
  },
  {
   "cell_type": "code",
   "execution_count": 194,
   "metadata": {},
   "outputs": [
    {
     "data": {
      "image/png": "[encoded data removed]",
      "text/plain": [
       "<Figure size 576x360 with 1 Axes>"
      ]
     },
     "metadata": {
      "needs_background": "light"
     },
     "output_type": "display_data"
    }
   ],
   "source": [
    "df.groupby('Region')[['Profit','Sales']].sum().plot.bar(color=['g','b'],figsize=(8,5))\n",
    "plt.ylabel('Profit/Loss and sales')\n",
    "plt.xticks(rotation=0)\n",
    "plt.show()"
   ]
  },
  {
   "cell_type": "markdown",
   "metadata": {},
   "source": [
    "# Inference\n",
    "Profit and sales are maximum in west region and minimum in south region"
   ]
  },
  {
   "cell_type": "code",
   "execution_count": 195,
   "metadata": {},
   "outputs": [
    {
     "data": {
      "image/png": "[encoded data removed]",
      "text/plain": [
       "<Figure size 1080x576 with 1 Axes>"
      ]
     },
     "metadata": {
      "needs_background": "light"
     },
     "output_type": "display_data"
    }
   ],
   "source": [
    "x= df.groupby('State')[['Sales','Profit']].sum().sort_values(by='Sales',ascending=False)\n",
    "x[:].plot.bar(color=['orange','green'],figsize=(15,8))\n",
    "plt.title('Profit/loss & Sales across states')\n",
    "plt.xlabel('States')\n",
    "plt.ylabel('Profit/loss & Sales')\n",
    "plt.show()"
   ]
  },
  {
   "cell_type": "markdown",
   "metadata": {},
   "source": [
    "# Inference\n",
    "High profit is for california, new york\n",
    "\n",
    "loss is for texas, pennsylvania, Ohio"
   ]
  },
  {
   "cell_type": "code",
   "execution_count": 196,
   "metadata": {},
   "outputs": [
    {
     "data": {
      "image/png": "[encoded data removed]",
      "text/plain": [
       "<Figure size 720x360 with 1 Axes>"
      ]
     },
     "metadata": {
      "needs_background": "light"
     },
     "output_type": "display_data"
    }
   ],
   "source": [
    "df.groupby('Category')[['Profit','Sales']].sum().plot.bar(color=['g','purple'],alpha=0.9,figsize=(10,5))\n",
    "plt.ylabel('Profit/Loss and sales')\n",
    "plt.xticks(rotation=0)\n",
    "plt.show()"
   ]
  },
  {
   "cell_type": "markdown",
   "metadata": {},
   "source": [
    "# Inference\n",
    "Technology and Office Supplies have high profit.\n",
    "Furniture have less profit"
   ]
  },
  {
   "cell_type": "code",
   "execution_count": 197,
   "metadata": {},
   "outputs": [
    {
     "data": {
      "image/png": "[encoded data removed]",
      "text/plain": [
       "<Figure size 720x360 with 1 Axes>"
      ]
     },
     "metadata": {
      "needs_background": "light"
     },
     "output_type": "display_data"
    }
   ],
   "source": [
    "plt.figure(figsize=(10,5))\n",
    "df.groupby('Segment')['Discount'].median().plot(kind='bar',color='g')\n",
    "plt.ylabel('Discount')\n",
    "plt.show()"
   ]
  },
  {
   "cell_type": "markdown",
   "metadata": {},
   "source": [
    "# Inference\n",
    "The home office people tends to buy more with no discounts comparing with other segment people."
   ]
  },
  {
   "cell_type": "code",
   "execution_count": 198,
   "metadata": {},
   "outputs": [
    {
     "data": {
      "image/png": "[encoded data removed]",
      "text/plain": [
       "<Figure size 1080x576 with 1 Axes>"
      ]
     },
     "metadata": {
      "needs_background": "light"
     },
     "output_type": "display_data"
    }
   ],
   "source": [
    "x = df.groupby('Sub-Category')[['Sales','Profit']].sum().sort_values(by='Sales',ascending=False)\n",
    "x[:].plot.bar(color=['red','g'],figsize=(15,8))\n",
    "plt.title('Profit/loss & Sales across states')\n",
    "plt.xlabel('Sub-Category')\n",
    "plt.ylabel('Profit/loss & Sales')\n",
    "plt.show()"
   ]
  },
  {
   "cell_type": "markdown",
   "metadata": {},
   "source": [
    "# Inference\n",
    "Phones sub-category have high sales.\n",
    "\n",
    "Chairs have high sales but less profit compared to Phones\n",
    "\n",
    "Tables and Bookmarks sub-categories facing huge loss"
   ]
  },
  {
   "cell_type": "markdown",
   "metadata": {},
   "source": [
    "# Thank You"
   ]
  },
  {
   "cell_type": "code",
   "execution_count": null,
   "metadata": {},
   "outputs": [],
   "source": []
  }
 ],
 "metadata": {
  "kernelspec": {
   "display_name": "Python 3",
   "language": "python",
   "name": "python3"
  },
  "language_info": {
   "codemirror_mode": {
    "name": "ipython",
    "version": 3
   },
   "file_extension": ".py",
   "mimetype": "text/x-python",
   "name": "python",
   "nbconvert_exporter": "python",
   "pygments_lexer": "ipython3",
   "version": "3.8.5"
  }
 },
 "nbformat": 4,
 "nbformat_minor": 4
}
